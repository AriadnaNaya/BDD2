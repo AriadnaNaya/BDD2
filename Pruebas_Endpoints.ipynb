{
 "cells": [
  {
   "cell_type": "markdown",
   "id": "e1b1f5d2",
   "metadata": {},
   "source": [
    "# Pruebas de Endpoints de la Aplicación E-Commerce\n",
    "\n",
    "Este Notebook contiene ejemplos de llamadas a los endpoints definidos en la aplicación, abarcando los siguientes casos de uso:\n",
    "\n",
    "1. **Autenticación y Sesión de Usuarios:** Logueo y consulta de sesión (almacenada en Redis).\n",
    "2. **Categorización de Usuarios:** Registro y listado de usuarios con su categoría (TOP, MEDIUM, LOW).\n",
    "3. **Catálogo de Productos:** Crear y listar productos.\n",
    "4. **Gestión de Carritos de Compras:** Agregar producto al carrito, ver el carrito y confirmar el pedido.\n",
    "5. **CRUD de Usuarios:** Crear, obtener, actualizar y eliminar un usuario.\n",
    "6. **CRUD de Productos:** Crear, obtener, actualizar y eliminar un producto.\n",
    "7. **CRUD de Pedidos:** Crear, obtener, actualizar y eliminar un pedido.\n",
    "\n",
    "Para mantener la sesión entre solicitudes, se utiliza un objeto `requests.Session()` que conserva las cookies asignadas por Flask."
   ]
  },
  {
   "cell_type": "code",
   "id": "c1e7b4d3",
   "metadata": {
    "ExecuteTime": {
     "end_time": "2025-02-19T17:09:37.903740Z",
     "start_time": "2025-02-19T17:09:37.600977Z"
    }
   },
   "source": [
    "import requests\n",
    "\n",
    "# Crear una sesión persistente para mantener la cookie de sesión\n",
    "session = requests.Session()\n",
    "\n",
    "# URL base de la aplicación\n",
    "base_url = \"http://localhost:5000\"\n",
    "print(\"Base URL:\", base_url)"
   ],
   "outputs": [
    {
     "name": "stdout",
     "output_type": "stream",
     "text": [
      "Base URL: http://localhost:5000\n"
     ]
    }
   ],
   "execution_count": 1
  },
  {
   "cell_type": "markdown",
   "id": "9f3c8ab2",
   "metadata": {},
   "source": [
    "## 1. Autenticación y Sesión de Usuarios\n",
    "\n",
    "### 1.1. Login (POST /login)\n",
    "Se envía el email del usuario (por ejemplo, `alice@example.com`) para que el backend asigne un `session_id` y almacene la información en Redis."
   ]
  },
  {
   "cell_type": "code",
   "id": "2d08e5f4",
   "metadata": {
    "ExecuteTime": {
     "end_time": "2025-02-19T17:09:45.840765Z",
     "start_time": "2025-02-19T17:09:45.792981Z"
    }
   },
   "source": [
    "# Endpoint de login\n",
    "login_url = f\"{base_url}/login\"\n",
    "\n",
    "# Datos de login\n",
    "login_data = {\"email\": \"alice@example.com\"}\n",
    "\n",
    "response_login = session.post(login_url, data=login_data)\n",
    "print(\"Login Response:\")\n",
    "print(response_login.status_code)\n",
    "print(response_login.text)"
   ],
   "outputs": [
    {
     "name": "stdout",
     "output_type": "stream",
     "text": [
      "Login Response:\n",
      "200\n",
      "{\n",
      "  \"message\": \"Usuario logueado\",\n",
      "  \"user\": \"alice@example.com\"\n",
      "}\n",
      "\n"
     ]
    }
   ],
   "execution_count": 2
  },
  {
   "cell_type": "markdown",
   "id": "8f9e3c7e",
   "metadata": {},
   "source": [
    "## 2. Consulta de Sesión en Redis\n",
    "\n",
    "Este endpoint (`GET /ver_sesion`) debe devolver la información de sesión almacenada en Redis. Esto permite verificar que la sesión se creó correctamente en el login."
   ]
  },
  {
   "cell_type": "code",
   "id": "ea0b9d10",
   "metadata": {
    "ExecuteTime": {
     "end_time": "2025-02-19T17:09:48.455721Z",
     "start_time": "2025-02-19T17:09:48.431087Z"
    }
   },
   "source": [
    "# Endpoint para consultar la sesión en Redis\n",
    "ver_sesion_url = f\"{base_url}/ver_sesion\"\n",
    "response_ver_sesion = session.get(ver_sesion_url)\n",
    "\n",
    "print(\"Ver Sesión Response:\")\n",
    "print(response_ver_sesion.status_code)\n",
    "try:\n",
    "    print(response_ver_sesion.json())\n",
    "except Exception as e:\n",
    "    print(response_ver_sesion.text)"
   ],
   "outputs": [
    {
     "name": "stdout",
     "output_type": "stream",
     "text": [
      "Ver Sesión Response:\n",
      "200\n",
      "{'user_email': 'alice@example.com', 'user_id': '67b61009891bdeaa8ba8166c'}\n"
     ]
    }
   ],
   "execution_count": 3
  },
  {
   "cell_type": "markdown",
   "id": "6d6fa45b",
   "metadata": {},
   "source": [
    "## 3. Catálogo de Productos\n",
    "\n",
    "### 3.1. Crear Producto (POST /productos)\n",
    "Se envía un JSON con la información del producto."
   ]
  },
  {
   "cell_type": "code",
   "id": "5a4f95d3",
   "metadata": {
    "ExecuteTime": {
     "end_time": "2025-02-19T17:09:53.089882Z",
     "start_time": "2025-02-19T17:09:53.058839Z"
    }
   },
   "source": [
    "productos_url = f\"{base_url}/productos\"\n",
    "\n",
    "producto_payload = {\n",
    "    \"nombre\": \"Smartphone X\",\n",
    "    \"descripcion\": \"Gama alta\",\n",
    "    \"precio\": 999.99,\n",
    "    \"stock\": 5\n",
    "}\n",
    "\n",
    "response_producto = session.post(productos_url, json=producto_payload)\n",
    "print(\"Crear Producto Response:\")\n",
    "print(response_producto.status_code)\n",
    "print(response_producto.json())\n",
    "\n",
    "# Guardar el ID del producto creado para usar en pruebas posteriores\n",
    "product_id = response_producto.json().get('_id')\n",
    "print(\"Product ID:\", product_id)"
   ],
   "outputs": [
    {
     "name": "stdout",
     "output_type": "stream",
     "text": [
      "Crear Producto Response:\n",
      "201\n",
      "{'_id': '67b61061258d596af020a8bd'}\n",
      "Product ID: 67b61061258d596af020a8bd\n"
     ]
    }
   ],
   "execution_count": 4
  },
  {
   "cell_type": "markdown",
   "id": "ef8c9bb1",
   "metadata": {},
   "source": [
    "### 3.2. Listar Productos (GET /productos)"
   ]
  },
  {
   "cell_type": "code",
   "id": "3de6a558",
   "metadata": {
    "ExecuteTime": {
     "end_time": "2025-02-19T17:09:56.661206Z",
     "start_time": "2025-02-19T17:09:56.634570Z"
    }
   },
   "source": [
    "response_listar_productos = session.get(productos_url)\n",
    "print(\"Listado de Productos:\")\n",
    "print(response_listar_productos.status_code)\n",
    "print(response_listar_productos.json())"
   ],
   "outputs": [
    {
     "name": "stdout",
     "output_type": "stream",
     "text": [
      "Listado de Productos:\n",
      "200\n",
      "[{'_id': '67b6100a891bdeaa8ba8166e', 'descripcion': 'Laptop muy potente', 'nombre': 'Laptop Gamer', 'precio': 1500.99, 'stock': 10}, {'_id': '67b6100a891bdeaa8ba8166f', 'descripcion': 'Gama alta', 'nombre': 'Smartphone X', 'precio': 999.99, 'stock': 5}, {'_id': '67b61061258d596af020a8bd', 'descripcion': 'Gama alta', 'nombre': 'Smartphone X', 'precio': 999.99, 'stock': 5}]\n"
     ]
    }
   ],
   "execution_count": 5
  },
  {
   "cell_type": "markdown",
   "id": "d6f9c202",
   "metadata": {},
   "source": [
    "## 4. Gestión de Carritos de Compras\n",
    "\n",
    "### 4.1. Agregar Producto al Carrito (POST /agregar_carrito)\n",
    "Envía el `product_id` y `cantidad` en una solicitud de formulario. Se asume que la sesión ya está iniciada.\n",
    "\n",
    "Nota: Se valida que el producto exista en MongoDB antes de agregarlo."
   ]
  },
  {
   "cell_type": "code",
   "id": "4a7dfdd8",
   "metadata": {
    "ExecuteTime": {
     "end_time": "2025-02-19T17:10:08.549839Z",
     "start_time": "2025-02-19T17:10:08.525730Z"
    }
   },
   "source": [
    "# Endpoint para agregar producto al carrito\n",
    "agregar_carrito_url = f\"{base_url}/agregar_carrito\"\n",
    "\n",
    "# Datos del carrito\n",
    "carrito_data = {\n",
    "    \"product_id\": product_id,  # Usamos el ID del producto creado anteriormente\n",
    "    \"cantidad\": \"2\"\n",
    "}\n",
    "\n",
    "response_agregar = session.post(agregar_carrito_url, data=carrito_data)\n",
    "print(\"Agregar Carrito Response:\")\n",
    "print(response_agregar.status_code)\n",
    "print(response_agregar.json())"
   ],
   "outputs": [
    {
     "name": "stdout",
     "output_type": "stream",
     "text": [
      "Agregar Carrito Response:\n",
      "200\n",
      "{'message': 'Producto agregado al carrito'}\n"
     ]
    }
   ],
   "execution_count": 6
  },
  {
   "cell_type": "markdown",
   "id": "1a9e3f71",
   "metadata": {},
   "source": [
    "## 5. Ver Carrito (GET /ver_carrito)\n",
    "\n",
    "Se consulta el contenido del carrito asociado a la sesión actual."
   ]
  },
  {
   "cell_type": "code",
   "id": "6c14bcb0",
   "metadata": {
    "ExecuteTime": {
     "end_time": "2025-02-19T17:10:18.888125Z",
     "start_time": "2025-02-19T17:10:18.877810Z"
    }
   },
   "source": [
    "# Endpoint para ver el carrito\n",
    "ver_carrito_url = f\"{base_url}/ver_carrito\"\n",
    "response_ver_carrito = session.get(ver_carrito_url)\n",
    "print(\"Ver Carrito Response:\")\n",
    "print(response_ver_carrito.status_code)\n",
    "print(response_ver_carrito.json())"
   ],
   "outputs": [
    {
     "name": "stdout",
     "output_type": "stream",
     "text": [
      "Ver Carrito Response:\n",
      "200\n",
      "{}\n"
     ]
    }
   ],
   "execution_count": 9
  },
  {
   "cell_type": "markdown",
   "id": "a10fd1d2",
   "metadata": {},
   "source": [
    "## 6. Confirmar Pedido (POST /confirmar_pedido)\n",
    "\n",
    "Este endpoint debe leer el carrito desde Redis, crear un pedido en MongoDB y limpiar el carrito."
   ]
  },
  {
   "cell_type": "code",
   "id": "b4e67c32",
   "metadata": {
    "ExecuteTime": {
     "end_time": "2025-02-19T17:10:15.364574Z",
     "start_time": "2025-02-19T17:10:15.318078Z"
    }
   },
   "source": [
    "# Endpoint para confirmar el pedido\n",
    "confirmar_pedido_url = f\"{base_url}/confirmar_pedido\"\n",
    "response_confirmar = session.post(confirmar_pedido_url)\n",
    "print(\"Confirmar Pedido Response:\")\n",
    "print(response_confirmar.status_code)\n",
    "print(response_confirmar.json())"
   ],
   "outputs": [
    {
     "name": "stdout",
     "output_type": "stream",
     "text": [
      "Confirmar Pedido Response:\n",
      "200\n",
      "{'message': 'Pedido confirmado', 'total': 1999.98}\n"
     ]
    }
   ],
   "execution_count": 8
  },
  {
   "cell_type": "markdown",
   "id": "user_crud_title",
   "metadata": {},
   "source": [
    "## 7. CRUD de Usuarios"
   ]
  },
  {
   "cell_type": "code",
   "id": "create_user",
   "metadata": {},
   "outputs": [],
   "source": [
    "# Crear un usuario para pruebas CRUD\n",
    "user_payload = {\n",
    "    \"nombre\": \"Test User\",\n",
    "    \"email\": \"testuser@example.com\",\n",
    "    \"categoria\": \"LOW\"\n",
    "}\n",
    "response_create_user = session.post(usuarios_url, json=user_payload)\n",
    "print('Crear Usuario Response:')\n",
    "print(response_create_user.status_code)\n",
    "print(response_create_user.json())\n",
    "\n",
    "# Guardamos el ID del usuario creado para usar en pruebas posteriores\n",
    "user_id = response_create_user.json().get('_id')\n",
    "print('User ID:', user_id)"
   ],
   "execution_count": null
  },
  {
   "cell_type": "code",
   "id": "get_user",
   "metadata": {},
   "outputs": [],
   "source": [
    "# Obtener el usuario creado\n",
    "get_user_url = f\"{usuarios_url}/{user_id}\"\n",
    "response_get_user = session.get(get_user_url)\n",
    "print('Get Usuario Response:')\n",
    "print(response_get_user.status_code)\n",
    "print(response_get_user.json())"
   ],
   "execution_count": null
  },
  {
   "cell_type": "code",
   "id": "update_user",
   "metadata": {},
   "outputs": [],
   "source": [
    "# Actualizar el usuario creado\n",
    "update_payload = {\n",
    "    \"nombre\": \"Test User Updated\",\n",
    "    \"categoria\": \"MEDIUM\"\n",
    "}\n",
    "update_user_url = f\"{usuarios_url}/{user_id}\"\n",
    "response_update_user = session.put(update_user_url, json=update_payload)\n",
    "print('Update Usuario Response:')\n",
    "print(response_update_user.status_code)\n",
    "print(response_update_user.json())"
   ],
   "execution_count": null
  },
  {
   "cell_type": "code",
   "id": "delete_user",
   "metadata": {},
   "outputs": [],
   "source": [
    "# Eliminar el usuario creado\n",
    "delete_user_url = f\"{usuarios_url}/{user_id}\"\n",
    "response_delete_user = session.delete(delete_user_url)\n",
    "print('Delete Usuario Response:')\n",
    "print(response_delete_user.status_code)\n",
    "print(response_delete_user.json())"
   ],
   "execution_count": null
  },
  {
   "cell_type": "markdown",
   "id": "product_crud_title",
   "metadata": {},
   "source": [
    "## 8. CRUD de Productos"
   ]
  },
  {
   "cell_type": "code",
   "id": "create_product",
   "metadata": {},
   "outputs": [],
   "source": [
    "# Crear un producto para pruebas CRUD\n",
    "product_payload = {\n",
    "    \"nombre\": \"Test Product\",\n",
    "    \"descripcion\": \"Producto de prueba\",\n",
    "    \"precio\": 123.45,\n",
    "    \"stock\": 50\n",
    "}\n",
    "response_create_product = session.post(productos_url, json=product_payload)\n",
    "print('Crear Producto Response:')\n",
    "print(response_create_product.status_code)\n",
    "print(response_create_product.json())\n",
    "\n",
    "# Guardamos el ID del producto creado para usar en pruebas posteriores\n",
    "product_id = response_create_product.json().get('_id')\n",
    "print('Product ID:', product_id)"
   ],
   "execution_count": null
  },
  {
   "cell_type": "code",
   "id": "get_product",
   "metadata": {},
   "outputs": [],
   "source": [
    "# Obtener el producto creado\n",
    "get_product_url = f\"{productos_url}/{product_id}\"\n",
    "response_get_product = session.get(get_product_url)\n",
    "print('Get Producto Response:')\n",
    "print(response_get_product.status_code)\n",
    "print(response_get_product.json())"
   ],
   "execution_count": null
  },
  {
   "cell_type": "code",
   "id": "update_product",
   "metadata": {},
   "outputs": [],
   "source": [
    "# Actualizar el producto creado\n",
    "update_product_payload = {\n",
    "    \"precio\": 150.00,\n",
    "    \"stock\": 45\n",
    "}\n",
    "update_product_url = f\"{productos_url}/{product_id}\"\n",
    "response_update_product = session.put(update_product_url, json=update_product_payload)\n",
    "print('Update Producto Response:')\n",
    "print(response_update_product.status_code)\n",
    "print(response_update_product.json())"
   ],
   "execution_count": null
  },
  {
   "cell_type": "code",
   "id": "delete_product",
   "metadata": {},
   "outputs": [],
   "source": [
    "# Eliminar el producto creado\n",
    "delete_product_url = f\"{productos_url}/{product_id}\"\n",
    "response_delete_product = session.delete(delete_product_url)\n",
    "print('Delete Producto Response:')\n",
    "print(response_delete_product.status_code)\n",
    "print(response_delete_product.json())"
   ],
   "execution_count": null
  },
  {
   "cell_type": "markdown",
   "id": "pedido_crud_title",
   "metadata": {},
   "source": [
    "## 9. CRUD de Pedidos\n",
    "\n",
    "Esta sección prueba la creación, consulta, actualización y eliminación de un pedido.\n",
    "\n",
    "Nota: Para crear un pedido, se requiere enviar un `usuario_id` (que debe ser válido) y un arreglo de items (cada uno con `product_id`, `cantidad`, `precio_unitario` y `subtotal`)."
   ]
  },
  {
   "cell_type": "code",
   "id": "create_pedido",
   "metadata": {},
   "outputs": [],
   "source": [
    "# Crear un pedido para pruebas CRUD\n",
    "pedido_payload = {\n",
    "    \"usuario_id\": \"SOME_VALID_USER_ID\",  # Reemplaza con un ID de usuario válido\n",
    "    \"items\": [\n",
    "         {\"product_id\": product_id, \"cantidad\": 2, \"precio_unitario\": 100.0, \"subtotal\": 200.0}\n",
    "    ],\n",
    "    \"total\": 200.0,\n",
    "    \"estado\": \"pendiente\"\n",
    "}\n",
    "pedidos_url = f\"{base_url}/pedidos\"\n",
    "response_create_pedido = session.post(pedidos_url, json=pedido_payload)\n",
    "print('Crear Pedido Response:')\n",
    "print(response_create_pedido.status_code)\n",
    "print(response_create_pedido.json())\n",
    "\n",
    "# Guardamos el ID del pedido creado para usar en pruebas posteriores\n",
    "pedido_id = response_create_pedido.json().get('_id')\n",
    "print('Pedido ID:', pedido_id)"
   ],
   "execution_count": null
  },
  {
   "cell_type": "code",
   "id": "get_pedido",
   "metadata": {},
   "outputs": [],
   "source": [
    "# Obtener el pedido creado\n",
    "get_pedido_url = f\"{pedidos_url}/{pedido_id}\"\n",
    "response_get_pedido = session.get(get_pedido_url)\n",
    "print('Get Pedido Response:')\n",
    "print(response_get_pedido.status_code)\n",
    "print(response_get_pedido.json())"
   ],
   "execution_count": null
  },
  {
   "cell_type": "code",
   "id": "update_pedido",
   "metadata": {},
   "outputs": [],
   "source": [
    "# Actualizar el pedido creado (por ejemplo, cambiar el estado a 'confirmado')\n",
    "update_pedido_payload = {\n",
    "    \"estado\": \"confirmado\"\n",
    "}\n",
    "update_pedido_url = f\"{pedidos_url}/{pedido_id}\"\n",
    "response_update_pedido = session.put(update_pedido_url, json=update_pedido_payload)\n",
    "print('Update Pedido Response:')\n",
    "print(response_update_pedido.status_code)\n",
    "print(response_update_pedido.json())"
   ],
   "execution_count": null
  },
  {
   "cell_type": "code",
   "id": "delete_pedido",
   "metadata": {},
   "outputs": [],
   "source": [
    "# Eliminar el pedido creado\n",
    "delete_pedido_url = f\"{pedidos_url}/{pedido_id}\"\n",
    "response_delete_pedido = session.delete(delete_pedido_url)\n",
    "print('Delete Pedido Response:')\n",
    "print(response_delete_pedido.status_code)\n",
    "print(response_delete_pedido.json())"
   ],
   "execution_count": null
  }
 ],
 "metadata": {
  "kernelspec": {
   "display_name": "Python 3",
   "language": "python",
   "name": "python3"
  },
  "language_info": {
   "name": "python",
   "version": "3.9"
  }
 },
 "nbformat": 4,
 "nbformat_minor": 5
}
